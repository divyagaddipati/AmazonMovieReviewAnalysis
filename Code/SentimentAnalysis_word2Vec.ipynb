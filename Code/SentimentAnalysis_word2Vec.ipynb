{
 "cells": [
  {
   "cell_type": "code",
   "execution_count": 1,
   "id": "8ba2ade0",
   "metadata": {},
   "outputs": [
    {
     "name": "stderr",
     "output_type": "stream",
     "text": [
      "/home/divyaj/.conda/envs/dl_exam/lib/python3.9/site-packages/tqdm/auto.py:22: TqdmWarning: IProgress not found. Please update jupyter and ipywidgets. See https://ipywidgets.readthedocs.io/en/stable/user_install.html\n",
      "  from .autonotebook import tqdm as notebook_tqdm\n"
     ]
    }
   ],
   "source": [
    "#Basic libraries\n",
    "import numpy as np\n",
    "import pandas as pd\n",
    "import gzip\n",
    "import json\n",
    "import sklearn\n",
    "\n",
    "#NLTK libraries\n",
    "import nltk\n",
    "import re\n",
    "import string\n",
    "from nltk.corpus import stopwords\n",
    "from wordcloud import WordCloud, STOPWORDS\n",
    "from nltk.stem.porter import PorterStemmer\n",
    "from vaderSentiment.vaderSentiment import SentimentIntensityAnalyzer\n",
    "from nltk.stem.porter import *\n",
    "from gensim import corpora, models\n",
    "from gensim.models import word2vec\n",
    "from bs4 import BeautifulSoup\n",
    "import spacy \n",
    "\n",
    "#Visualization libraries\n",
    "import matplotlib.pyplot as plt \n",
    "from matplotlib import rcParams\n",
    "import seaborn as sns\n",
    "from textblob import TextBlob\n",
    "from plotly import tools\n",
    "import plotly.graph_objs as go\n",
    "from plotly.offline import iplot\n",
    "# %matplotlib inline\n",
    "\n",
    "#ML libraries\n",
    "from sklearn.model_selection import train_test_split\n",
    "from sklearn import preprocessing\n",
    "from sklearn.ensemble import RandomForestClassifier\n",
    "from sklearn.cluster import KMeans\n",
    "\n",
    "#Metrics libraries\n",
    "from sklearn import metrics\n",
    "from sklearn.metrics import classification_report\n",
    "from sklearn.model_selection import cross_val_score\n",
    "from sklearn import naive_bayes, linear_model, svm, ensemble\n",
    "\n",
    "# Others\n",
    "from collections import defaultdict\n",
    "from collections import Counter\n",
    "import pickle\n",
    "import time\n",
    "from os.path import join\n",
    "from tqdm import tqdm\n",
    "tqdm.pandas()\n",
    "import warnings\n",
    "warnings.filterwarnings('ignore')"
   ]
  },
  {
   "cell_type": "code",
   "execution_count": 2,
   "id": "283e3baa",
   "metadata": {},
   "outputs": [
    {
     "name": "stderr",
     "output_type": "stream",
     "text": [
      "[nltk_data] Downloading package stopwords to /home/divyaj/nltk_data...\n",
      "[nltk_data]   Package stopwords is already up-to-date!\n",
      "[nltk_data] Downloading package wordnet to /home/divyaj/nltk_data...\n",
      "[nltk_data]   Package wordnet is already up-to-date!\n",
      "[nltk_data] Downloading package punkt to /home/divyaj/nltk_data...\n",
      "[nltk_data]   Package punkt is already up-to-date!\n"
     ]
    },
    {
     "data": {
      "text/plain": [
       "True"
      ]
     },
     "execution_count": 2,
     "metadata": {},
     "output_type": "execute_result"
    }
   ],
   "source": [
    "nltk.download('stopwords')\n",
    "nltk.download('wordnet')\n",
    "nltk.download('punkt')"
   ]
  },
  {
   "cell_type": "code",
   "execution_count": 3,
   "id": "b4c5facb",
   "metadata": {},
   "outputs": [],
   "source": [
    "# !pip install -U spacy\n",
    "# !python -m spacy download en_core_web_md, en_core_web_sm\n",
    "\n",
    "en = spacy.load(\"en_core_web_md\")"
   ]
  },
  {
   "cell_type": "code",
   "execution_count": 4,
   "id": "9100e100",
   "metadata": {},
   "outputs": [],
   "source": [
    "csv_path = '../Data/csv_files/'\n",
    "reviews_df = pd.read_csv(csv_path + 'cleaned_reviews.csv')"
   ]
  },
  {
   "cell_type": "code",
   "execution_count": 5,
   "id": "16778e91",
   "metadata": {},
   "outputs": [
    {
     "data": {
      "text/html": [
       "<div>\n",
       "<style scoped>\n",
       "    .dataframe tbody tr th:only-of-type {\n",
       "        vertical-align: middle;\n",
       "    }\n",
       "\n",
       "    .dataframe tbody tr th {\n",
       "        vertical-align: top;\n",
       "    }\n",
       "\n",
       "    .dataframe thead th {\n",
       "        text-align: right;\n",
       "    }\n",
       "</style>\n",
       "<table border=\"1\" class=\"dataframe\">\n",
       "  <thead>\n",
       "    <tr style=\"text-align: right;\">\n",
       "      <th></th>\n",
       "      <th>reviewerID</th>\n",
       "      <th>asin</th>\n",
       "      <th>reviewText</th>\n",
       "      <th>summary</th>\n",
       "      <th>helpful</th>\n",
       "      <th>overall</th>\n",
       "      <th>reviewText_cleaned</th>\n",
       "    </tr>\n",
       "  </thead>\n",
       "  <tbody>\n",
       "    <tr>\n",
       "      <th>0</th>\n",
       "      <td>ADZPIG9QOCDG5</td>\n",
       "      <td>0005019281</td>\n",
       "      <td>This is a charming version of the classic Dick...</td>\n",
       "      <td>good version of a classic</td>\n",
       "      <td>[0, 0]</td>\n",
       "      <td>4.0</td>\n",
       "      <td>charming version classic dickens tale henry wi...</td>\n",
       "    </tr>\n",
       "    <tr>\n",
       "      <th>1</th>\n",
       "      <td>A35947ZP82G7JH</td>\n",
       "      <td>0005019281</td>\n",
       "      <td>It was good but not as emotionally moving as t...</td>\n",
       "      <td>Good but not as moving</td>\n",
       "      <td>[0, 0]</td>\n",
       "      <td>3.0</td>\n",
       "      <td>good but not emotionally moving christmas caro...</td>\n",
       "    </tr>\n",
       "    <tr>\n",
       "      <th>2</th>\n",
       "      <td>A3UORV8A9D5L2E</td>\n",
       "      <td>0005019281</td>\n",
       "      <td>Don't get me wrong, Winkler is a wonderful cha...</td>\n",
       "      <td>Winkler's Performance was ok at best!</td>\n",
       "      <td>[0, 0]</td>\n",
       "      <td>3.0</td>\n",
       "      <td>dont get wrong winkler wonderful character act...</td>\n",
       "    </tr>\n",
       "    <tr>\n",
       "      <th>3</th>\n",
       "      <td>A1VKW06X1O2X7V</td>\n",
       "      <td>0005019281</td>\n",
       "      <td>Henry Winkler is very good in this twist on th...</td>\n",
       "      <td>It's an enjoyable twist on the classic story</td>\n",
       "      <td>[0, 0]</td>\n",
       "      <td>5.0</td>\n",
       "      <td>henry winkler good twist classic story not con...</td>\n",
       "    </tr>\n",
       "    <tr>\n",
       "      <th>4</th>\n",
       "      <td>A3R27T4HADWFFJ</td>\n",
       "      <td>0005019281</td>\n",
       "      <td>This is one of the best Scrooge movies out.  H...</td>\n",
       "      <td>Best Scrooge yet</td>\n",
       "      <td>[0, 0]</td>\n",
       "      <td>4.0</td>\n",
       "      <td>one best scrooge movies henry winkler outdoes ...</td>\n",
       "    </tr>\n",
       "  </tbody>\n",
       "</table>\n",
       "</div>"
      ],
      "text/plain": [
       "       reviewerID        asin  \\\n",
       "0   ADZPIG9QOCDG5  0005019281   \n",
       "1  A35947ZP82G7JH  0005019281   \n",
       "2  A3UORV8A9D5L2E  0005019281   \n",
       "3  A1VKW06X1O2X7V  0005019281   \n",
       "4  A3R27T4HADWFFJ  0005019281   \n",
       "\n",
       "                                          reviewText  \\\n",
       "0  This is a charming version of the classic Dick...   \n",
       "1  It was good but not as emotionally moving as t...   \n",
       "2  Don't get me wrong, Winkler is a wonderful cha...   \n",
       "3  Henry Winkler is very good in this twist on th...   \n",
       "4  This is one of the best Scrooge movies out.  H...   \n",
       "\n",
       "                                        summary helpful  overall  \\\n",
       "0                     good version of a classic  [0, 0]      4.0   \n",
       "1                        Good but not as moving  [0, 0]      3.0   \n",
       "2         Winkler's Performance was ok at best!  [0, 0]      3.0   \n",
       "3  It's an enjoyable twist on the classic story  [0, 0]      5.0   \n",
       "4                              Best Scrooge yet  [0, 0]      4.0   \n",
       "\n",
       "                                  reviewText_cleaned  \n",
       "0  charming version classic dickens tale henry wi...  \n",
       "1  good but not emotionally moving christmas caro...  \n",
       "2  dont get wrong winkler wonderful character act...  \n",
       "3  henry winkler good twist classic story not con...  \n",
       "4  one best scrooge movies henry winkler outdoes ...  "
      ]
     },
     "execution_count": 5,
     "metadata": {},
     "output_type": "execute_result"
    }
   ],
   "source": [
    "reviews_df = reviews_df.fillna('')\n",
    "reviews_df.head()"
   ]
  },
  {
   "cell_type": "code",
   "execution_count": 6,
   "id": "34e89dec",
   "metadata": {},
   "outputs": [],
   "source": [
    "reviews_df['combinedText'] = reviews_df['reviewText_cleaned'] + \" \" + reviews_df['summary']"
   ]
  },
  {
   "cell_type": "code",
   "execution_count": 7,
   "id": "802eed56",
   "metadata": {},
   "outputs": [],
   "source": [
    "def get_helpful_score(h_str):\n",
    "    txt = h_str.split(\",\")\n",
    "    val1 = txt[0].split(\"[\")[1].strip()\n",
    "    val2 = txt[1].split(\"]\")[0].strip()\n",
    "    try:\n",
    "        res = int(val1) / int(val2)\n",
    "    except ZeroDivisionError:\n",
    "        res = 0\n",
    "    return res\n",
    "\n",
    "reviews_df['helpful_rate'] = reviews_df['helpful'].apply(get_helpful_score)\n",
    "reviews_df['helpful_rate'] = reviews_df['helpful_rate'].fillna(0)\n",
    "reviews_df['helpful_rate'] = reviews_df['helpful_rate'].round(2)\n",
    "reviews_df.drop(columns='helpful', inplace=True)"
   ]
  },
  {
   "cell_type": "code",
   "execution_count": 8,
   "id": "e80decdb",
   "metadata": {},
   "outputs": [],
   "source": [
    "# Sentiment can be defined using the overall rating provided by the user\n",
    "def sentiment_basedOn_rating(val):\n",
    "    if val == 3.0:\n",
    "        return \"neu\"\n",
    "    elif val == 1.0 or val == 2.0:\n",
    "        return \"neg\"\n",
    "    elif val == 4.0 or val == 5.0:\n",
    "        return \"pos\"\n",
    "    else:\n",
    "        return \"none\"\n",
    "    \n",
    "reviews_df['user_label'] = reviews_df['overall'].apply(sentiment_basedOn_rating)"
   ]
  },
  {
   "cell_type": "code",
   "execution_count": 9,
   "id": "5d6b02b9",
   "metadata": {},
   "outputs": [],
   "source": [
    "lb = preprocessing.LabelEncoder()\n",
    "reviews_df['user_label'] = lb.fit_transform(reviews_df['user_label'])\n",
    "# pos - 2, neu - 1, neg = 0"
   ]
  },
  {
   "cell_type": "code",
   "execution_count": 13,
   "id": "b767aebc",
   "metadata": {},
   "outputs": [],
   "source": [
    "# Run only once\n",
    "\n",
    "X_train, X_test, y_train, y_test = train_test_split(X, y,\n",
    "                                          test_size = 0.2,\n",
    "                                          random_state = 42)\n",
    "\n",
    "print('Train : {0}, Test: {1}'.format(len(X_train), len(X_test)))\n",
    "\n",
    "def get_wordVec_feature(text):\n",
    "    feat = en(text).vector\n",
    "    return feat\n",
    "\n",
    "train_vecs = np.stack([get_wordVec_feature(review) for review in tqdm(X_train)])\n",
    "del X_train\n",
    "test_vecs = np.stack([get_wordVec_feature(review) for review in tqdm(X_test)])\n",
    "del X_test\n",
    "\n",
    "np.save('../Data/train_vecs.npy', train_vecs)\n",
    "np.save('../Data/test_vecs.npy', test_vecs)\n",
    "\n",
    "np.save('../Data/y_train.npy', y_train)\n",
    "np.save('../Data/y_test.npy', y_test)\n"
   ]
  },
  {
   "cell_type": "code",
   "execution_count": 10,
   "id": "1f4679a5",
   "metadata": {},
   "outputs": [],
   "source": [
    "train_vecs = np.load('../Data/train_vecs.npy')\n",
    "test_vecs = np.load('../Data/test_vecs.npy')\n",
    "y_train = np.load('../Data/y_train.npy')\n",
    "y_test = np.load('../Data/y_test.npy')"
   ]
  },
  {
   "cell_type": "code",
   "execution_count": 19,
   "id": "528ffd94",
   "metadata": {},
   "outputs": [],
   "source": [
    "def train_model(classifier, classifier_type, train_features, train_labels, test_features, test_labels):\n",
    "    print('Classifier : ', classifier_type)\n",
    "    print(\"-----------------------------------\\n\")\n",
    "    \n",
    "    start_time = time.time()\n",
    "    # fit the training data on classifier\n",
    "    classifier.fit(train_features, train_labels)\n",
    "    print(\"--- Time taken: %s seconds ---\" % (time.time() - start_time))\n",
    "    \n",
    "    print(\"\\n-----------------------------------\\n\")\n",
    "    \n",
    "def plot_metrics(model, X_test, y_test, clf_name):\n",
    "    pred = model.predict(X_test)\n",
    "    # Source : https://www.stackvidhya.com/plot-confusion-matrix-in-python-and-why/\n",
    "    cm = metrics.confusion_matrix(y_test, pred)\n",
    "\n",
    "    print(classification_report(y_test, pred, target_names=lb.classes_))\n",
    "\n",
    "    ax = sns.heatmap(cm/np.sum(cm), annot=True, fmt='.2%', cmap='Blues')\n",
    "    ax.set_xlabel('\\nSentiment Label from ' + clf_name)\n",
    "    ax.set_ylabel('Sentiment Label from user rating');\n",
    "\n",
    "    ## Ticket labels - List must be in alphabetical order\n",
    "    ax.xaxis.set_ticklabels(['neg', 'neu','pos'])\n",
    "    ax.yaxis.set_ticklabels(['neg', 'neu','pos'])\n",
    "\n",
    "    ## Display the visualization of the Confusion Matrix.\n",
    "    plt.show()"
   ]
  },
  {
   "cell_type": "code",
   "execution_count": 17,
   "id": "4a716133",
   "metadata": {},
   "outputs": [],
   "source": [
    "# Naive Bayes\n",
    "nb_clf = naive_bayes.GaussianNB()\n",
    "train_model(nb_clf, 'Naive Bayes', train_vecs, y_train, test_vecs, y_test)\n",
    "f = open('../Models/nb_clf.pickle', 'wb')\n",
    "pickle.dump(nb_clf, f)\n",
    "f.close()\n",
    "\n",
    "# Logistic regression\n",
    "lr_clf = linear_model.LogisticRegression()\n",
    "train_model(lr_clf, 'Logistic Regression', train_vecs, y_train, test_vecs, y_test)\n",
    "f = open('../Models/lr_clf.pickle', 'wb')\n",
    "pickle.dump(lr_clf, f)\n",
    "f.close()\n",
    "\n",
    "# SVM\n",
    "svm_clf = svm.LinearSVC()\n",
    "train_model(svm_clf, 'SVM', train_vecs, y_train, test_vecs, y_test)\n",
    "f = open('../Models/svm_clf.pickle', 'wb')\n",
    "pickle.dump(svm_clf, f)\n",
    "f.close()"
   ]
  },
  {
   "cell_type": "code",
   "execution_count": 20,
   "id": "818ab3bb",
   "metadata": {},
   "outputs": [
    {
     "name": "stdout",
     "output_type": "stream",
     "text": [
      "              precision    recall  f1-score   support\n",
      "\n",
      "         neg       0.27      0.54      0.36     41326\n",
      "         neu       0.15      0.42      0.22     40260\n",
      "         pos       0.87      0.49      0.63    257921\n",
      "\n",
      "    accuracy                           0.49    339507\n",
      "   macro avg       0.43      0.48      0.40    339507\n",
      "weighted avg       0.71      0.49      0.55    339507\n",
      "\n"
     ]
    },
    {
     "data": {
      "image/png": "[encoded data removed]",
      "text/plain": [
       "<Figure size 432x288 with 2 Axes>"
      ]
     },
     "metadata": {
      "needs_background": "light"
     },
     "output_type": "display_data"
    }
   ],
   "source": [
    "import pickle\n",
    "f = open('../Models/nb_clf.pickle', 'rb')\n",
    "nb_clf = pickle.load(f)\n",
    "f.close()\n",
    "\n",
    "plot_metrics(nb_clf, test_vecs, y_test, 'Naive Bayes')"
   ]
  },
  {
   "cell_type": "code",
   "execution_count": 21,
   "id": "df10aacc",
   "metadata": {},
   "outputs": [
    {
     "name": "stdout",
     "output_type": "stream",
     "text": [
      "              precision    recall  f1-score   support\n",
      "\n",
      "         neg       0.58      0.32      0.41     41326\n",
      "         neu       0.37      0.03      0.06     40260\n",
      "         pos       0.80      0.97      0.88    257921\n",
      "\n",
      "    accuracy                           0.78    339507\n",
      "   macro avg       0.59      0.44      0.45    339507\n",
      "weighted avg       0.72      0.78      0.72    339507\n",
      "\n"
     ]
    },
    {
     "data": {
      "image/png": "[encoded data removed]",
      "text/plain": [
       "<Figure size 432x288 with 2 Axes>"
      ]
     },
     "metadata": {
      "needs_background": "light"
     },
     "output_type": "display_data"
    }
   ],
   "source": [
    "f = open('../Models/lr_clf.pickle', 'rb')\n",
    "lr_clf = pickle.load(f)\n",
    "f.close()\n",
    "\n",
    "plot_metrics(lr_clf, test_vecs, y_test, 'Logistic Regression')"
   ]
  },
  {
   "cell_type": "code",
   "execution_count": 22,
   "id": "4fcbefd7",
   "metadata": {},
   "outputs": [
    {
     "name": "stdout",
     "output_type": "stream",
     "text": [
      "              precision    recall  f1-score   support\n",
      "\n",
      "         neg       0.61      0.26      0.37     41326\n",
      "         neu       0.46      0.01      0.02     40260\n",
      "         pos       0.79      0.98      0.88    257921\n",
      "\n",
      "    accuracy                           0.78    339507\n",
      "   macro avg       0.62      0.42      0.42    339507\n",
      "weighted avg       0.73      0.78      0.71    339507\n",
      "\n"
     ]
    },
    {
     "data": {
      "image/png": "[encoded data removed]",
      "text/plain": [
       "<Figure size 432x288 with 2 Axes>"
      ]
     },
     "metadata": {
      "needs_background": "light"
     },
     "output_type": "display_data"
    }
   ],
   "source": [
    "f = open('../Models/svm_clf.pickle', 'rb')\n",
    "svm_clf = pickle.load(f)\n",
    "f.close()\n",
    "\n",
    "plot_metrics(svm_clf, test_vecs, y_test, 'SVM')"
   ]
  },
  {
   "cell_type": "code",
   "execution_count": null,
   "id": "0313bc05",
   "metadata": {},
   "outputs": [],
   "source": []
  }
 ],
 "metadata": {
  "kernelspec": {
   "display_name": "Python [conda env:.conda-dl_exam] *",
   "language": "python",
   "name": "conda-env-.conda-dl_exam-py"
  },
  "language_info": {
   "codemirror_mode": {
    "name": "ipython",
    "version": 3
   },
   "file_extension": ".py",
   "mimetype": "text/x-python",
   "name": "python",
   "nbconvert_exporter": "python",
   "pygments_lexer": "ipython3",
   "version": "3.9.7"
  }
 },
 "nbformat": 4,
 "nbformat_minor": 5
}
