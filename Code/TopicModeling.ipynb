{
 "cells": [
  {
   "cell_type": "markdown",
   "metadata": {
    "id": "h_1Fhh2wgZ6-"
   },
   "source": [
    "# Imports"
   ]
  },
  {
   "cell_type": "code",
   "execution_count": 1,
   "metadata": {
    "executionInfo": {
     "elapsed": 3251,
     "status": "ok",
     "timestamp": 1651683797579,
     "user": {
      "displayName": "Divya Jyothi Gaddipati",
      "userId": "10674915948328933462"
     },
     "user_tz": 240
    },
    "id": "O_X0kinymdwg"
   },
   "outputs": [],
   "source": [
    "#Basic libraries\n",
    "import numpy as np\n",
    "import pandas as pd\n",
    "import gzip\n",
    "import json\n",
    "import sklearn\n",
    "\n",
    "#NLTK libraries\n",
    "import nltk\n",
    "import re\n",
    "import string\n",
    "from nltk.corpus import stopwords\n",
    "from wordcloud import WordCloud, STOPWORDS\n",
    "from nltk.stem.porter import PorterStemmer\n",
    "from vaderSentiment.vaderSentiment import SentimentIntensityAnalyzer\n",
    "from nltk.stem.porter import *\n",
    "from gensim import corpora, models\n",
    "\n",
    "#Visualization libraries\n",
    "import matplotlib.pyplot as plt \n",
    "from matplotlib import rcParams\n",
    "import seaborn as sns\n",
    "from textblob import TextBlob\n",
    "from plotly import tools\n",
    "import plotly.graph_objs as go\n",
    "from plotly.offline import iplot\n",
    "%matplotlib inline\n",
    "\n",
    "#Metrics libraries\n",
    "from sklearn import metrics\n",
    "from sklearn.metrics import classification_report\n",
    "from sklearn.model_selection import cross_val_score\n",
    "\n",
    "# Others\n",
    "from collections import defaultdict\n",
    "from collections import Counter"
   ]
  },
  {
   "cell_type": "code",
   "execution_count": 2,
   "metadata": {
    "colab": {
     "base_uri": "https://localhost:8080/"
    },
    "executionInfo": {
     "elapsed": 210,
     "status": "ok",
     "timestamp": 1651683797784,
     "user": {
      "displayName": "Divya Jyothi Gaddipati",
      "userId": "10674915948328933462"
     },
     "user_tz": 240
    },
    "id": "rhc3wncz0x5m",
    "outputId": "cb355e80-ee3d-48ba-9639-d6c8944fe843"
   },
   "outputs": [
    {
     "name": "stderr",
     "output_type": "stream",
     "text": [
      "[nltk_data] Downloading package stopwords to /home/divyaj/nltk_data...\n",
      "[nltk_data]   Package stopwords is already up-to-date!\n",
      "[nltk_data] Downloading package punkt to /home/divyaj/nltk_data...\n",
      "[nltk_data]   Package punkt is already up-to-date!\n"
     ]
    },
    {
     "data": {
      "text/plain": [
       "True"
      ]
     },
     "execution_count": 2,
     "metadata": {},
     "output_type": "execute_result"
    }
   ],
   "source": [
    "nltk.download('stopwords')\n",
    "nltk.download('punkt')"
   ]
  },
  {
   "cell_type": "code",
   "execution_count": 4,
   "metadata": {},
   "outputs": [],
   "source": [
    "csv_path = '../Data/csv_files/'"
   ]
  },
  {
   "cell_type": "code",
   "execution_count": 5,
   "metadata": {
    "executionInfo": {
     "elapsed": 40514,
     "status": "ok",
     "timestamp": 1651683847791,
     "user": {
      "displayName": "Divya Jyothi Gaddipati",
      "userId": "10674915948328933462"
     },
     "user_tz": 240
    },
    "id": "89Z6AqFVyM6H"
   },
   "outputs": [
    {
     "data": {
      "text/html": [
       "<div>\n",
       "<style scoped>\n",
       "    .dataframe tbody tr th:only-of-type {\n",
       "        vertical-align: middle;\n",
       "    }\n",
       "\n",
       "    .dataframe tbody tr th {\n",
       "        vertical-align: top;\n",
       "    }\n",
       "\n",
       "    .dataframe thead th {\n",
       "        text-align: right;\n",
       "    }\n",
       "</style>\n",
       "<table border=\"1\" class=\"dataframe\">\n",
       "  <thead>\n",
       "    <tr style=\"text-align: right;\">\n",
       "      <th></th>\n",
       "      <th>reviewerID</th>\n",
       "      <th>asin</th>\n",
       "      <th>reviewText</th>\n",
       "      <th>summary</th>\n",
       "      <th>helpful</th>\n",
       "      <th>overall</th>\n",
       "      <th>reviewText_cleaned</th>\n",
       "    </tr>\n",
       "  </thead>\n",
       "  <tbody>\n",
       "    <tr>\n",
       "      <th>0</th>\n",
       "      <td>ADZPIG9QOCDG5</td>\n",
       "      <td>0005019281</td>\n",
       "      <td>This is a charming version of the classic Dick...</td>\n",
       "      <td>good version of a classic</td>\n",
       "      <td>[0, 0]</td>\n",
       "      <td>4.0</td>\n",
       "      <td>charming version classic dickens tale henry wi...</td>\n",
       "    </tr>\n",
       "    <tr>\n",
       "      <th>1</th>\n",
       "      <td>A35947ZP82G7JH</td>\n",
       "      <td>0005019281</td>\n",
       "      <td>It was good but not as emotionally moving as t...</td>\n",
       "      <td>Good but not as moving</td>\n",
       "      <td>[0, 0]</td>\n",
       "      <td>3.0</td>\n",
       "      <td>good but not emotionally moving christmas caro...</td>\n",
       "    </tr>\n",
       "    <tr>\n",
       "      <th>2</th>\n",
       "      <td>A3UORV8A9D5L2E</td>\n",
       "      <td>0005019281</td>\n",
       "      <td>Don't get me wrong, Winkler is a wonderful cha...</td>\n",
       "      <td>Winkler's Performance was ok at best!</td>\n",
       "      <td>[0, 0]</td>\n",
       "      <td>3.0</td>\n",
       "      <td>dont get wrong winkler wonderful character act...</td>\n",
       "    </tr>\n",
       "    <tr>\n",
       "      <th>3</th>\n",
       "      <td>A1VKW06X1O2X7V</td>\n",
       "      <td>0005019281</td>\n",
       "      <td>Henry Winkler is very good in this twist on th...</td>\n",
       "      <td>It's an enjoyable twist on the classic story</td>\n",
       "      <td>[0, 0]</td>\n",
       "      <td>5.0</td>\n",
       "      <td>henry winkler good twist classic story not con...</td>\n",
       "    </tr>\n",
       "    <tr>\n",
       "      <th>4</th>\n",
       "      <td>A3R27T4HADWFFJ</td>\n",
       "      <td>0005019281</td>\n",
       "      <td>This is one of the best Scrooge movies out.  H...</td>\n",
       "      <td>Best Scrooge yet</td>\n",
       "      <td>[0, 0]</td>\n",
       "      <td>4.0</td>\n",
       "      <td>one best scrooge movies henry winkler outdoes ...</td>\n",
       "    </tr>\n",
       "  </tbody>\n",
       "</table>\n",
       "</div>"
      ],
      "text/plain": [
       "       reviewerID        asin  \\\n",
       "0   ADZPIG9QOCDG5  0005019281   \n",
       "1  A35947ZP82G7JH  0005019281   \n",
       "2  A3UORV8A9D5L2E  0005019281   \n",
       "3  A1VKW06X1O2X7V  0005019281   \n",
       "4  A3R27T4HADWFFJ  0005019281   \n",
       "\n",
       "                                          reviewText  \\\n",
       "0  This is a charming version of the classic Dick...   \n",
       "1  It was good but not as emotionally moving as t...   \n",
       "2  Don't get me wrong, Winkler is a wonderful cha...   \n",
       "3  Henry Winkler is very good in this twist on th...   \n",
       "4  This is one of the best Scrooge movies out.  H...   \n",
       "\n",
       "                                        summary helpful  overall  \\\n",
       "0                     good version of a classic  [0, 0]      4.0   \n",
       "1                        Good but not as moving  [0, 0]      3.0   \n",
       "2         Winkler's Performance was ok at best!  [0, 0]      3.0   \n",
       "3  It's an enjoyable twist on the classic story  [0, 0]      5.0   \n",
       "4                              Best Scrooge yet  [0, 0]      4.0   \n",
       "\n",
       "                                  reviewText_cleaned  \n",
       "0  charming version classic dickens tale henry wi...  \n",
       "1  good but not emotionally moving christmas caro...  \n",
       "2  dont get wrong winkler wonderful character act...  \n",
       "3  henry winkler good twist classic story not con...  \n",
       "4  one best scrooge movies henry winkler outdoes ...  "
      ]
     },
     "execution_count": 5,
     "metadata": {},
     "output_type": "execute_result"
    }
   ],
   "source": [
    "reviews_df = pd.read_csv(csv_path + '/cleaned_reviews.csv',)\n",
    "reviews_df = reviews_df.fillna('')\n",
    "reviews_df.head()"
   ]
  },
  {
   "cell_type": "code",
   "execution_count": null,
   "metadata": {
    "id": "gtswnwZGpMHs"
   },
   "outputs": [],
   "source": [
    "# Topic modeling - run only once\n",
    "\n",
    "sws_punc_stem = []\n",
    "ps = PorterStemmer()\n",
    "\n",
    "for text in reviews_df['reviewText_cleaned']:\n",
    "    words = nltk.word_tokenize(text.lower())\n",
    "    stem_words = [ps.stem(word) for word in words]\n",
    "    sws_punc_stem.append(stem_words)\n",
    "\n",
    "dictionary = corpora.Dictionary(sws_punc_stem)\n",
    "dictionary.filter_extremes(no_below=5, no_above=0.3)\n",
    "dictionary.compactify()\n",
    "\n",
    "corpus = [dictionary.doc2bow(text) for text in sws_punc_stem]\n",
    "\n",
    "ldamodel_final = models.ldamodel.LdaModel(corpus, num_topics=10, id2word=dictionary, passes=20)\n",
    "ldamodel_final.save('../Models/lda.model')"
   ]
  },
  {
   "cell_type": "code",
   "execution_count": 7,
   "metadata": {},
   "outputs": [],
   "source": [
    "ldamodel = models.LdaModel.load('../Models/lda.model')"
   ]
  },
  {
   "cell_type": "code",
   "execution_count": 12,
   "metadata": {},
   "outputs": [
    {
     "data": {
      "text/plain": [
       "[(0,\n",
       "  '0.010*\"famili\" + 0.010*\"get\" + 0.009*\"life\" + 0.007*\"find\" + 0.007*\"young\" + 0.007*\"girl\" + 0.007*\"man\" + 0.007*\"take\" + 0.006*\"live\" + 0.006*\"friend\"'),\n",
       " (1,\n",
       "  '0.027*\"match\" + 0.019*\"vs\" + 0.010*\"move\" + 0.008*\"back\" + 0.008*\"get\" + 0.008*\"work\" + 0.008*\"use\" + 0.007*\"team\" + 0.006*\"show\" + 0.006*\"time\"'),\n",
       " (2,\n",
       "  '0.019*\"music\" + 0.017*\"comedi\" + 0.012*\"song\" + 0.011*\"love\" + 0.011*\"funni\" + 0.011*\"perform\" + 0.009*\"play\" + 0.007*\"show\" + 0.007*\"laugh\" + 0.006*\"sing\"'),\n",
       " (3,\n",
       "  '0.035*\"watch\" + 0.034*\"love\" + 0.033*\"great\" + 0.029*\"seri\" + 0.029*\"season\" + 0.028*\"show\" + 0.019*\"episod\" + 0.019*\"enjoy\" + 0.017*\"stori\" + 0.013*\"see\"'),\n",
       " (4,\n",
       "  '0.016*\"origin\" + 0.016*\"action\" + 0.016*\"horror\" + 0.014*\"effect\" + 0.011*\"anim\" + 0.011*\"special\" + 0.009*\"new\" + 0.008*\"fan\" + 0.008*\"stori\" + 0.007*\"monster\"'),\n",
       " (5,\n",
       "  '0.027*\"dvd\" + 0.018*\"set\" + 0.018*\"releas\" + 0.010*\"bluray\" + 0.009*\"featur\" + 0.009*\"video\" + 0.009*\"version\" + 0.009*\"disc\" + 0.009*\"qualiti\" + 0.008*\"get\"'),\n",
       " (6,\n",
       "  '0.023*\"play\" + 0.015*\"role\" + 0.015*\"actor\" + 0.012*\"cast\" + 0.011*\"perform\" + 0.010*\"great\" + 0.009*\"best\" + 0.008*\"star\" + 0.008*\"charact\" + 0.007*\"job\"'),\n",
       " (7,\n",
       "  '0.014*\"realli\" + 0.014*\"watch\" + 0.012*\"get\" + 0.011*\"would\" + 0.010*\"dont\" + 0.010*\"see\" + 0.010*\"time\" + 0.010*\"go\" + 0.009*\"much\" + 0.009*\"think\"'),\n",
       " (8,\n",
       "  '0.013*\"charact\" + 0.013*\"stori\" + 0.006*\"well\" + 0.006*\"much\" + 0.006*\"make\" + 0.006*\"time\" + 0.006*\"mani\" + 0.005*\"life\" + 0.005*\"even\" + 0.005*\"work\"'),\n",
       " (9,\n",
       "  '0.013*\"war\" + 0.008*\"american\" + 0.008*\"world\" + 0.007*\"histori\" + 0.006*\"us\" + 0.006*\"peopl\" + 0.006*\"fight\" + 0.005*\"power\" + 0.004*\"battl\" + 0.004*\"man\"')]"
      ]
     },
     "execution_count": 12,
     "metadata": {},
     "output_type": "execute_result"
    }
   ],
   "source": [
    "ldamodel.print_topics(num_topics=10, num_words=10)"
   ]
  },
  {
   "cell_type": "code",
   "execution_count": null,
   "metadata": {},
   "outputs": [],
   "source": []
  }
 ],
 "metadata": {
  "colab": {
   "collapsed_sections": [
    "TrjdTJHxgpUk",
    "AGE6Zu2xg16e",
    "EBo0s5PXg72r"
   ],
   "name": "TopicModeling.ipynb",
   "provenance": [
    {
     "file_id": "1dDcIusnsyaNcXn4PkloTiwk49SJl-BNF",
     "timestamp": 1651646022071
    },
    {
     "file_id": "1X3_o4OOzqsE1vhqyDrCRfmblL0PM6cEH",
     "timestamp": 1650663266985
    }
   ]
  },
  "kernelspec": {
   "display_name": "Python [conda env:.conda-dl_exam] *",
   "language": "python",
   "name": "conda-env-.conda-dl_exam-py"
  },
  "language_info": {
   "codemirror_mode": {
    "name": "ipython",
    "version": 3
   },
   "file_extension": ".py",
   "mimetype": "text/x-python",
   "name": "python",
   "nbconvert_exporter": "python",
   "pygments_lexer": "ipython3",
   "version": "3.9.7"
  }
 },
 "nbformat": 4,
 "nbformat_minor": 1
}
